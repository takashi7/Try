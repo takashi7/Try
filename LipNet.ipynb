{
  "nbformat": 4,
  "nbformat_minor": 0,
  "metadata": {
    "colab": {
      "name": "LipNet.ipynb",
      "version": "0.3.2",
      "provenance": [],
      "include_colab_link": true
    },
    "kernelspec": {
      "name": "python2",
      "display_name": "Python 2"
    }
  },
  "cells": [
    {
      "cell_type": "markdown",
      "metadata": {
        "id": "view-in-github",
        "colab_type": "text"
      },
      "source": [
        "[View in Colaboratory](https://colab.research.google.com/github/takashi7/Try/blob/master/LipNet.ipynb)"
      ]
    },
    {
      "metadata": {
        "id": "xdM9OCFF2pxX",
        "colab_type": "code",
        "colab": {
          "base_uri": "https://localhost:8080/",
          "height": 121
        },
        "outputId": "8efb863c-57ae-4563-efb8-9591bb64857f"
      },
      "cell_type": "code",
      "source": [
        "!git clone https://github.com/rizkiarm/LipNet"
      ],
      "execution_count": 2,
      "outputs": [
        {
          "output_type": "stream",
          "text": [
            "Cloning into 'LipNet'...\n",
            "remote: Counting objects: 343, done.\u001b[K\n",
            "remote: Total 343 (delta 0), reused 0 (delta 0), pack-reused 343\u001b[K\n",
            "Receiving objects: 100% (343/343), 125.84 MiB | 33.47 MiB/s, done.\n",
            "Resolving deltas: 100% (126/126), done.\n",
            "Checking out files: 100% (134/134), done.\n"
          ],
          "name": "stdout"
        }
      ]
    },
    {
      "metadata": {
        "id": "qA24KsrQ6Chy",
        "colab_type": "code",
        "colab": {
          "base_uri": "https://localhost:8080/",
          "height": 35
        },
        "outputId": "1ed0f40a-9b42-4344-b3c8-d40dfee54fc7"
      },
      "cell_type": "code",
      "source": [
        "%cd LipNet"
      ],
      "execution_count": 3,
      "outputs": [
        {
          "output_type": "stream",
          "text": [
            "/content/LipNet/LipNet\n"
          ],
          "name": "stdout"
        }
      ]
    },
    {
      "metadata": {
        "id": "SxOK0dwx6IHW",
        "colab_type": "code",
        "colab": {}
      },
      "cell_type": "code",
      "source": [
        "!sed -i s/'dlib==19.4.0'/'dlib==19.9.0'/ setup.py"
      ],
      "execution_count": 0,
      "outputs": []
    },
    {
      "metadata": {
        "id": "BOIVEzZf6J7k",
        "colab_type": "code",
        "colab": {}
      },
      "cell_type": "code",
      "source": [
        "!sed -i s/'tensorflow-gpu==1.0.1'/'tensorflow-gpu==1.4.1'/ setup.py"
      ],
      "execution_count": 0,
      "outputs": []
    },
    {
      "metadata": {
        "id": "C_LrRZSG6LyG",
        "colab_type": "code",
        "colab": {}
      },
      "cell_type": "code",
      "source": [
        "!sed -i s/'numpy==1.12.1'/'numpy==1.14.3'/ -i setup.py"
      ],
      "execution_count": 0,
      "outputs": []
    },
    {
      "metadata": {
        "id": "9xU4qmf36SnF",
        "colab_type": "code",
        "colab": {
          "base_uri": "https://localhost:8080/",
          "height": 35
        },
        "outputId": "2fad91a1-66f1-4a93-de63-bbe9b12f8074"
      },
      "cell_type": "code",
      "source": [
        "!pip install distro"
      ],
      "execution_count": 9,
      "outputs": [
        {
          "output_type": "stream",
          "text": [
            "Requirement already satisfied: distro in /usr/local/lib/python2.7/dist-packages (1.3.0)\r\n"
          ],
          "name": "stdout"
        }
      ]
    },
    {
      "metadata": {
        "id": "2llgDC2W6W6F",
        "colab_type": "code",
        "colab": {
          "base_uri": "https://localhost:8080/",
          "height": 155
        },
        "outputId": "310899bf-e913-415f-f381-9d55cb6c1e6c"
      },
      "cell_type": "code",
      "source": [
        "!apt update"
      ],
      "execution_count": 10,
      "outputs": [
        {
          "output_type": "stream",
          "text": [
            "Hit:1 http://security.ubuntu.com/ubuntu artful-security InRelease\n",
            "Hit:2 http://archive.ubuntu.com/ubuntu artful InRelease\n",
            "Hit:3 http://archive.ubuntu.com/ubuntu artful-updates InRelease\n",
            "Hit:4 http://archive.ubuntu.com/ubuntu artful-backports InRelease\n",
            "Reading package lists... Done\n",
            "Building dependency tree       \n",
            "Reading state information... Done\n",
            "All packages are up to date.\n"
          ],
          "name": "stdout"
        }
      ]
    },
    {
      "metadata": {
        "id": "-HXQHMlI6cVz",
        "colab_type": "code",
        "colab": {
          "base_uri": "https://localhost:8080/",
          "height": 104
        },
        "outputId": "726587f8-1795-45aa-e493-a0b41b97396b"
      },
      "cell_type": "code",
      "source": [
        "!apt install -y cmake"
      ],
      "execution_count": 11,
      "outputs": [
        {
          "output_type": "stream",
          "text": [
            "Reading package lists... Done\n",
            "Building dependency tree       \n",
            "Reading state information... Done\n",
            "cmake is already the newest version (3.9.1-1).\n",
            "0 upgraded, 0 newly installed, 0 to remove and 0 not upgraded.\n"
          ],
          "name": "stdout"
        }
      ]
    },
    {
      "metadata": {
        "id": "9KkqjuZK6cpj",
        "colab_type": "code",
        "colab": {
          "base_uri": "https://localhost:8080/",
          "height": 104
        },
        "outputId": "5b505923-cea0-4498-eb24-1051e9f1ccea"
      },
      "cell_type": "code",
      "source": [
        "!apt install ffmpeg"
      ],
      "execution_count": 12,
      "outputs": [
        {
          "output_type": "stream",
          "text": [
            "Reading package lists... Done\n",
            "Building dependency tree       \n",
            "Reading state information... Done\n",
            "ffmpeg is already the newest version (7:3.3.4-2).\n",
            "0 upgraded, 0 newly installed, 0 to remove and 0 not upgraded.\n"
          ],
          "name": "stdout"
        }
      ]
    },
    {
      "metadata": {
        "id": "WNg9A3xO6c6O",
        "colab_type": "code",
        "colab": {
          "base_uri": "https://localhost:8080/",
          "height": 35
        },
        "outputId": "f7c276ac-4dda-47a8-9810-50c66e7dc372"
      },
      "cell_type": "code",
      "source": [
        "!pip install dlib"
      ],
      "execution_count": 13,
      "outputs": [
        {
          "output_type": "stream",
          "text": [
            "Requirement already satisfied: dlib in /usr/local/lib/python2.7/dist-packages (19.15.0)\r\n"
          ],
          "name": "stdout"
        }
      ]
    },
    {
      "metadata": {
        "id": "CRQ4bAfW6hWI",
        "colab_type": "code",
        "colab": {
          "base_uri": "https://localhost:8080/",
          "height": 345
        },
        "outputId": "09a58b98-91ba-471c-e4a7-02340d8a9a20"
      },
      "cell_type": "code",
      "source": [
        "!pip install boost"
      ],
      "execution_count": 14,
      "outputs": [
        {
          "output_type": "stream",
          "text": [
            "Requirement already satisfied: boost in /usr/local/lib/python2.7/dist-packages (0.1)\r\n",
            "Requirement already satisfied: Mastodon.py in /usr/local/lib/python2.7/dist-packages (from boost) (1.3.1)\r\n",
            "Requirement already satisfied: sqlalchemy in /usr/local/lib/python2.7/dist-packages (from boost) (1.2.11)\n",
            "Requirement already satisfied: six in /usr/local/lib/python2.7/dist-packages (from Mastodon.py->boost) (1.11.0)\n",
            "Requirement already satisfied: cryptography>=1.6.0 in /usr/local/lib/python2.7/dist-packages (from Mastodon.py->boost) (2.3.1)\n",
            "Requirement already satisfied: requests in /usr/local/lib/python2.7/dist-packages (from Mastodon.py->boost) (2.18.4)\n",
            "Requirement already satisfied: decorator>=4.0.0 in /usr/local/lib/python2.7/dist-packages (from Mastodon.py->boost) (4.3.0)\n",
            "Requirement already satisfied: http-ece>=1.0.5 in /usr/local/lib/python2.7/dist-packages (from Mastodon.py->boost) (1.0.5)\n",
            "Requirement already satisfied: python-dateutil in /usr/local/lib/python2.7/dist-packages (from Mastodon.py->boost) (2.5.3)\n",
            "Requirement already satisfied: pytz in /usr/local/lib/python2.7/dist-packages (from Mastodon.py->boost) (2018.5)\n",
            "Requirement already satisfied: enum34; python_version < \"3\" in /usr/local/lib/python2.7/dist-packages (from cryptography>=1.6.0->Mastodon.py->boost) (1.1.6)\n",
            "Requirement already satisfied: idna>=2.1 in /usr/local/lib/python2.7/dist-packages (from cryptography>=1.6.0->Mastodon.py->boost) (2.6)\n",
            "Requirement already satisfied: asn1crypto>=0.21.0 in /usr/local/lib/python2.7/dist-packages (from cryptography>=1.6.0->Mastodon.py->boost) (0.24.0)\n",
            "Requirement already satisfied: cffi!=1.11.3,>=1.7 in /usr/local/lib/python2.7/dist-packages (from cryptography>=1.6.0->Mastodon.py->boost) (1.11.5)\n",
            "Requirement already satisfied: ipaddress; python_version < \"3\" in /usr/local/lib/python2.7/dist-packages (from cryptography>=1.6.0->Mastodon.py->boost) (1.0.22)\n",
            "Requirement already satisfied: urllib3<1.23,>=1.21.1 in /usr/local/lib/python2.7/dist-packages (from requests->Mastodon.py->boost) (1.22)\n",
            "Requirement already satisfied: certifi>=2017.4.17 in /usr/local/lib/python2.7/dist-packages (from requests->Mastodon.py->boost) (2018.8.24)\n",
            "Requirement already satisfied: chardet<3.1.0,>=3.0.2 in /usr/local/lib/python2.7/dist-packages (from requests->Mastodon.py->boost) (3.0.4)\n",
            "Requirement already satisfied: pycparser in /usr/local/lib/python2.7/dist-packages (from cffi!=1.11.3,>=1.7->cryptography>=1.6.0->Mastodon.py->boost) (2.18)\n"
          ],
          "name": "stdout"
        }
      ]
    },
    {
      "metadata": {
        "id": "3lmthAOb6iGc",
        "colab_type": "code",
        "colab": {
          "base_uri": "https://localhost:8080/",
          "height": 881
        },
        "outputId": "c7781b19-56cb-40d4-e1fc-b74478570217"
      },
      "cell_type": "code",
      "source": [
        "!pip install -e ."
      ],
      "execution_count": 0,
      "outputs": [
        {
          "output_type": "stream",
          "text": [
            "Obtaining file:///content/LipNet/LipNet\n",
            "Collecting Keras==2.0.2 (from lipnet==0.1.6)\n",
            "Collecting editdistance==0.3.1 (from lipnet==0.1.6)\n",
            "Collecting h5py==2.6.0 (from lipnet==0.1.6)\n",
            "  Using cached https://files.pythonhosted.org/packages/5b/bd/955d01389f2a7674326ea793fe0ea46f52cb85a01a0338432988502ff5ff/h5py-2.6.0-1-cp27-cp27mu-manylinux1_x86_64.whl\n",
            "Collecting matplotlib==2.0.0 (from lipnet==0.1.6)\n",
            "  Using cached https://files.pythonhosted.org/packages/85/91/58521f52158b2e6e65ae353c7ae640bf7700596691956df7ea01e9c7f63e/matplotlib-2.0.0-1-cp27-cp27mu-manylinux1_x86_64.whl\n",
            "Collecting numpy==1.14.3 (from lipnet==0.1.6)\n",
            "  Using cached https://files.pythonhosted.org/packages/c0/e7/08f059a00367fd613e4f2875a16c70b6237268a1d6d166c6d36acada8301/numpy-1.14.3-cp27-cp27mu-manylinux1_x86_64.whl\n",
            "Collecting python-dateutil==2.6.0 (from lipnet==0.1.6)\n",
            "  Using cached https://files.pythonhosted.org/packages/40/8b/275015d7a9ec293cf1bbf55433258fbc9d0711890a7f6dc538bac7b86bce/python_dateutil-2.6.0-py2.py3-none-any.whl\n",
            "Collecting scipy==0.19.0 (from lipnet==0.1.6)\n",
            "  Using cached https://files.pythonhosted.org/packages/eb/7e/27b3b9e26cb64e081799546a756059baf285eb886a771e9d26743876ccbb/scipy-0.19.0-cp27-cp27mu-manylinux1_x86_64.whl\n",
            "Collecting Pillow==4.1.0 (from lipnet==0.1.6)\n",
            "  Using cached https://files.pythonhosted.org/packages/d3/7c/2931fa532893bfd8580584c85d54f60e28726212e8af87d887f8b4a00e5d/Pillow-4.1.0-cp27-cp27mu-manylinux1_x86_64.whl\n",
            "Collecting tensorflow-gpu==1.4.1 (from lipnet==0.1.6)\n",
            "  Using cached https://files.pythonhosted.org/packages/cf/95/d7ba49e73125cf0f3f8d4dcbb05a5b3ebb25205b0af7ba844f1a1300f79a/tensorflow_gpu-1.4.1-cp27-cp27mu-manylinux1_x86_64.whl\n",
            "Collecting Theano==0.9.0 (from lipnet==0.1.6)\n",
            "Collecting nltk==3.2.2 (from lipnet==0.1.6)\n",
            "Collecting sk-video==1.1.7 (from lipnet==0.1.6)\n",
            "  Using cached https://files.pythonhosted.org/packages/96/5f/eb2ba516caab7d13cf7eb332f2d52df76ad4847509af083687dc263c0321/sk_video-1.1.7-py2-none-any.whl\n",
            "Collecting dlib==19.9.0 (from lipnet==0.1.6)\n",
            "  Using cached https://files.pythonhosted.org/packages/23/7a/891d4c46cdf755fb69eec0f06a53033d3754bf68ace5342ad56aeb540aa1/dlib-19.9.0.tar.gz\n",
            "Requirement already satisfied: six in /usr/local/lib/python2.7/dist-packages (from Keras==2.0.2->lipnet==0.1.6) (1.11.0)\n",
            "Requirement already satisfied: pyyaml in /usr/local/lib/python2.7/dist-packages (from Keras==2.0.2->lipnet==0.1.6) (3.13)\n",
            "Requirement already satisfied: cycler>=0.10 in /usr/local/lib/python2.7/dist-packages (from matplotlib==2.0.0->lipnet==0.1.6) (0.10.0)\n",
            "Requirement already satisfied: pyparsing!=2.0.0,!=2.0.4,!=2.1.2,!=2.1.6,>=1.5.6 in /usr/local/lib/python2.7/dist-packages (from matplotlib==2.0.0->lipnet==0.1.6) (2.2.0)\n",
            "Requirement already satisfied: subprocess32 in /usr/local/lib/python2.7/dist-packages (from matplotlib==2.0.0->lipnet==0.1.6) (3.5.2)\n",
            "Requirement already satisfied: functools32 in /usr/local/lib/python2.7/dist-packages (from matplotlib==2.0.0->lipnet==0.1.6) (3.2.3.post2)\n",
            "Requirement already satisfied: pytz in /usr/local/lib/python2.7/dist-packages (from matplotlib==2.0.0->lipnet==0.1.6) (2018.5)\n",
            "Requirement already satisfied: olefile in /usr/local/lib/python2.7/dist-packages (from Pillow==4.1.0->lipnet==0.1.6) (0.45.1)\n",
            "Collecting tensorflow-tensorboard<0.5.0,>=0.4.0rc1 (from tensorflow-gpu==1.4.1->lipnet==0.1.6)\n",
            "  Using cached https://files.pythonhosted.org/packages/64/cd/f3d14d441eb1c5228aaf7e12e8e94895ae73e9af50383e481610b34357bd/tensorflow_tensorboard-0.4.0-py2-none-any.whl\n",
            "Requirement already satisfied: mock>=2.0.0 in /usr/local/lib/python2.7/dist-packages (from tensorflow-gpu==1.4.1->lipnet==0.1.6) (2.0.0)\n",
            "Requirement already satisfied: enum34>=1.1.6 in /usr/local/lib/python2.7/dist-packages (from tensorflow-gpu==1.4.1->lipnet==0.1.6) (1.1.6)\n",
            "Requirement already satisfied: protobuf>=3.3.0 in /usr/local/lib/python2.7/dist-packages (from tensorflow-gpu==1.4.1->lipnet==0.1.6) (3.6.1)\n",
            "Requirement already satisfied: wheel in /usr/local/lib/python2.7/dist-packages (from tensorflow-gpu==1.4.1->lipnet==0.1.6) (0.31.1)\n",
            "Requirement already satisfied: backports.weakref>=1.0rc1 in /usr/local/lib/python2.7/dist-packages (from tensorflow-gpu==1.4.1->lipnet==0.1.6) (1.0.post1)\n",
            "Collecting bleach==1.5.0 (from tensorflow-tensorboard<0.5.0,>=0.4.0rc1->tensorflow-gpu==1.4.1->lipnet==0.1.6)\n",
            "  Using cached https://files.pythonhosted.org/packages/33/70/86c5fec937ea4964184d4d6c4f0b9551564f821e1c3575907639036d9b90/bleach-1.5.0-py2.py3-none-any.whl\n",
            "Requirement already satisfied: futures>=3.1.1; python_version < \"3.2\" in /usr/local/lib/python2.7/dist-packages (from tensorflow-tensorboard<0.5.0,>=0.4.0rc1->tensorflow-gpu==1.4.1->lipnet==0.1.6) (3.2.0)\n",
            "Collecting html5lib==0.9999999 (from tensorflow-tensorboard<0.5.0,>=0.4.0rc1->tensorflow-gpu==1.4.1->lipnet==0.1.6)\n",
            "  Using cached https://files.pythonhosted.org/packages/ae/ae/bcb60402c60932b32dfaf19bb53870b29eda2cd17551ba5639219fb5ebf9/html5lib-0.9999999.tar.gz\n",
            "Requirement already satisfied: werkzeug>=0.11.10 in /usr/local/lib/python2.7/dist-packages (from tensorflow-tensorboard<0.5.0,>=0.4.0rc1->tensorflow-gpu==1.4.1->lipnet==0.1.6) (0.14.1)\n",
            "Requirement already satisfied: markdown>=2.6.8 in /usr/local/lib/python2.7/dist-packages (from tensorflow-tensorboard<0.5.0,>=0.4.0rc1->tensorflow-gpu==1.4.1->lipnet==0.1.6) (2.6.11)\n",
            "Requirement already satisfied: funcsigs>=1; python_version < \"3.3\" in /usr/local/lib/python2.7/dist-packages (from mock>=2.0.0->tensorflow-gpu==1.4.1->lipnet==0.1.6) (1.0.2)\n",
            "Requirement already satisfied: pbr>=0.11 in /usr/local/lib/python2.7/dist-packages (from mock>=2.0.0->tensorflow-gpu==1.4.1->lipnet==0.1.6) (4.2.0)\n",
            "Requirement already satisfied: setuptools in /usr/local/lib/python2.7/dist-packages (from protobuf>=3.3.0->tensorflow-gpu==1.4.1->lipnet==0.1.6) (39.1.0)\n",
            "Building wheels for collected packages: dlib, html5lib\n",
            "  Running setup.py bdist_wheel for dlib ... \u001b[?25l-\b \b\\\b \b|\b \b/\b \b-\b \b\\\b \b|\b \b/\b \b-\b \b\\\b \b|\b \b/\b \b-\b \b\\\b \b|\b \b/\b \b-\b \b\\\b \b|\b \b/\b \b-\b \b\\\b \b|\b \b/\b \b-\b \b\\\b \b|\b \b/\b \b-\b \b\\\b \b|\b \b/\b \b-\b \b\\\b \b|\b \b/\b \b-\b \b\\\b \b|\b \b/\b \b-\b \b\\\b \b|\b \b/\b \b-\b \b\\\b \b|\b \b/\b \b-\b \b\\\b \b|\b \b/\b \b-\b \b\\"
          ],
          "name": "stdout"
        }
      ]
    }
  ]
}